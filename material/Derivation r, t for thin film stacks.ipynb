{
 "cells": [
  {
   "cell_type": "code",
   "execution_count": 13,
   "metadata": {
    "collapsed": false
   },
   "outputs": [
    {
     "name": "stdout",
     "output_type": "stream",
     "text": [
      "Reloading __future__\n",
      "Reloading matplotlib\n",
      "Reloading matplotlib.externals\n",
      "Reloading distutils\n",
      "Reloading distutils.version\n",
      "Reloading distutils.string\n",
      "Reloading string\n",
      "Reloading re\n",
      "Reloading sre_compile\n",
      "Reloading _sre\n",
      "Reloading sre_parse\n",
      "Reloading sre_constants\n",
      "Reloading _locale\n",
      "Reloading copy_reg\n",
      "Reloading types\n",
      "Reloading strop\n",
      "Reloading distutils.re\n",
      "Reloading distutils.types\n",
      "Reloading itertools\n",
      "Reloading io\n",
      "Reloading _io\n",
      "Reloading abc\n",
      "Reloading _weakrefset\n",
      "Reloading _weakref\n",
      "Reloading inspect\n",
      "Reloading os\n",
      "Reloading errno\n",
      "Reloading posix\n",
      "Reloading posixpath\n",
      "Reloading stat\n",
      "Reloading genericpath\n",
      "Reloading warnings\n",
      "Reloading linecache\n",
      "Reloading _warnings\n",
      "Reloading UserDict\n",
      "Reloading _abcoll\n",
      "Reloading dis\n",
      "Reloading opcode\n",
      "Reloading imp\n",
      "Reloading tokenize\n",
      "Reloading token\n",
      "Reloading operator\n",
      "Reloading collections\n",
      "Reloading _collections\n",
      "Reloading keyword\n",
      "Reloading heapq\n",
      "Reloading _heapq\n",
      "Reloading thread\n",
      "Reloading locale\n",
      "Reloading encodings\n",
      "Reloading encodings.codecs\n",
      "Reloading codecs\n",
      "Reloading _codecs\n",
      "Reloading encodings.encodings\n",
      "Reloading encodings.__builtin__\n",
      "Reloading encodings.aliases\n",
      "Reloading functools\n",
      "Reloading _functools\n",
      "Reloading tempfile\n",
      "Reloading random\n",
      "Reloading math\n",
      "Reloading binascii\n",
      "Reloading hashlib\n",
      "Reloading _hashlib\n",
      "Reloading _random\n",
      "Reloading cStringIO\n",
      "Reloading fcntl\n",
      "Reloading contextlib\n",
      "Reloading distutils.sysconfig\n",
      "Reloading distutils.os\n",
      "Reloading distutils.sys\n",
      "Reloading distutils.fnmatch\n",
      "Reloading fnmatch\n",
      "Reloading distutils.distutils\n",
      "Reloading distutils.errors\n",
      "Reloading matplotlib.cbook\n",
      "Reloading matplotlib.externals.six\n",
      "Reloading StringIO\n",
      "Reloading matplotlib.externals.six.moves\n",
      "IPython console for SymPy 0.7.7.dev (Python 2.7.10-64-bit) (ground types: python)\n",
      "\n",
      "These commands were executed:\n",
      ">>> from __future__ import division\n",
      ">>> from sympy import *\n",
      ">>> x, y, z, t = symbols('x y z t')\n",
      ">>> k, m, n = symbols('k m n', integer=True)\n",
      ">>> f, g, h = symbols('f g h', cls=Function)\n",
      ">>> init_printing()\n",
      "\n",
      "Documentation can be found at http://docs.sympy.org/dev\n"
     ]
    }
   ],
   "source": [
    "from sympy import *\n",
    "init_session();"
   ]
  },
  {
   "cell_type": "code",
   "execution_count": 14,
   "metadata": {
    "collapsed": false
   },
   "outputs": [],
   "source": [
    "A, B, C, D, Z_vac, Z_0, Z_N, r, t = symbols(\"A B C D Z_vac Z_0 Z_N r t\")"
   ]
  },
  {
   "cell_type": "code",
   "execution_count": 15,
   "metadata": {
    "collapsed": false
   },
   "outputs": [],
   "source": [
    "lhs = Matrix( [ [1+r], [1/Z_0*(1-r)] ])\n",
    "rhs_vec = Matrix( [ [t], [1/Z_N*t] ])\n",
    "M = Matrix( [ [A, B], [C, D] ])"
   ]
  },
  {
   "cell_type": "code",
   "execution_count": 16,
   "metadata": {
    "collapsed": false
   },
   "outputs": [
    {
     "name": "stdout",
     "output_type": "stream",
     "text": [
      "⎡r + 1 ⎤\n",
      "⎢      ⎥\n",
      "⎢-r + 1⎥\n",
      "⎢──────⎥\n",
      "⎣  Z₀  ⎦\n",
      "⎡ t ⎤\n",
      "⎢   ⎥\n",
      "⎢ t ⎥\n",
      "⎢───⎥\n",
      "⎣Z_N⎦\n",
      "⎡A  B⎤\n",
      "⎢    ⎥\n",
      "⎣C  D⎦\n"
     ]
    }
   ],
   "source": [
    "pretty_print(lhs)\n",
    "pretty_print(rhs_vec)\n",
    "pretty_print(M)"
   ]
  },
  {
   "cell_type": "code",
   "execution_count": 17,
   "metadata": {
    "collapsed": false
   },
   "outputs": [],
   "source": [
    "sol = solve(M*rhs_vec - lhs, (r, t))"
   ]
  },
  {
   "cell_type": "code",
   "execution_count": 18,
   "metadata": {
    "collapsed": false
   },
   "outputs": [],
   "source": [
    "r = sol[r]\n",
    "t = sol[t]"
   ]
  },
  {
   "cell_type": "code",
   "execution_count": 19,
   "metadata": {
    "collapsed": false
   },
   "outputs": [
    {
     "data": {
      "image/png": "[encoded data removed]",
      "text/latex": [
       "$$\\left ( \\frac{A Z_{N} + B - Z_{0} \\left(C Z_{N} + D\\right)}{A Z_{N} + B + Z_{0} \\left(C Z_{N} + D\\right)}, \\quad \\frac{2 Z_{N}}{A Z_{N} + B + Z_{0} \\left(C Z_{N} + D\\right)}\\right )$$"
      ],
      "text/plain": [
       "⎛A⋅Z_N + B - Z₀⋅(C⋅Z_N + D)            2⋅Z_N           ⎞\n",
       "⎜──────────────────────────, ──────────────────────────⎟\n",
       "⎝A⋅Z_N + B + Z₀⋅(C⋅Z_N + D)  A⋅Z_N + B + Z₀⋅(C⋅Z_N + D)⎠"
      ]
     },
     "execution_count": 19,
     "metadata": {},
     "output_type": "execute_result"
    }
   ],
   "source": [
    "r, t"
   ]
  },
  {
   "cell_type": "code",
   "execution_count": 20,
   "metadata": {
    "collapsed": false
   },
   "outputs": [
    {
     "data": {
      "image/png": "[encoded data removed]",
      "text/latex": [
       "$$\\frac{4 Z_{N}^{2}}{\\left(A Z_{N} + B + Z_{0} \\left(C Z_{N} + D\\right)\\right)^{2}} + \\frac{\\left(A Z_{N} + B - Z_{0} \\left(C Z_{N} + D\\right)\\right)^{2}}{\\left(A Z_{N} + B + Z_{0} \\left(C Z_{N} + D\\right)\\right)^{2}}$$"
      ],
      "text/plain": [
       "                 2                                          2\n",
       "            4⋅Z_N               (A⋅Z_N + B - Z₀⋅(C⋅Z_N + D)) \n",
       "───────────────────────────── + ─────────────────────────────\n",
       "                            2                               2\n",
       "(A⋅Z_N + B + Z₀⋅(C⋅Z_N + D))    (A⋅Z_N + B + Z₀⋅(C⋅Z_N + D)) "
      ]
     },
     "execution_count": 20,
     "metadata": {},
     "output_type": "execute_result"
    }
   ],
   "source": [
    "r**2 + t**2"
   ]
  },
  {
   "cell_type": "code",
   "execution_count": 21,
   "metadata": {
    "collapsed": false
   },
   "outputs": [
    {
     "data": {
      "text/plain": [
       "\"A = Symbol('A')\\nZ_N = Symbol('Z_N')\\nB = Symbol('B')\\nZ_0 = Symbol('Z_0')\\nC = Symbol('C')\\nD = Symbol('D')\\ne = (A*Z_N + B - Z_0*(C*Z_N + D))/(A*Z_N + B + Z_0*(C*Z_N + D))\""
      ]
     },
     "execution_count": 21,
     "metadata": {},
     "output_type": "execute_result"
    }
   ],
   "source": [
    "python(r)"
   ]
  },
  {
   "cell_type": "code",
   "execution_count": 22,
   "metadata": {
    "collapsed": false
   },
   "outputs": [
    {
     "data": {
      "text/plain": [
       "\"Z_N = Symbol('Z_N')\\nA = Symbol('A')\\nB = Symbol('B')\\nZ_0 = Symbol('Z_0')\\nC = Symbol('C')\\nD = Symbol('D')\\ne = 2*Z_N/(A*Z_N + B + Z_0*(C*Z_N + D))\""
      ]
     },
     "execution_count": 22,
     "metadata": {},
     "output_type": "execute_result"
    }
   ],
   "source": [
    "python(t)"
   ]
  },
  {
   "cell_type": "code",
   "execution_count": 23,
   "metadata": {
    "collapsed": false
   },
   "outputs": [
    {
     "data": {
      "image/png": "[encoded data removed]",
      "text/latex": [
       "$$\\frac{A Z_{N} + B - Z_{0} \\left(C Z_{N} + D\\right)}{A Z_{N} + B + Z_{0} \\left(C Z_{N} + D\\right)}$$"
      ],
      "text/plain": [
       "A⋅Z_N + B - Z₀⋅(C⋅Z_N + D)\n",
       "──────────────────────────\n",
       "A⋅Z_N + B + Z₀⋅(C⋅Z_N + D)"
      ]
     },
     "execution_count": 23,
     "metadata": {},
     "output_type": "execute_result"
    }
   ],
   "source": [
    "simplify(r)"
   ]
  },
  {
   "cell_type": "code",
   "execution_count": null,
   "metadata": {
    "collapsed": true
   },
   "outputs": [],
   "source": []
  }
 ],
 "metadata": {
  "kernelspec": {
   "display_name": "Python 2",
   "language": "python",
   "name": "python2"
  },
  "language_info": {
   "codemirror_mode": {
    "name": "ipython",
    "version": 2
   },
   "file_extension": ".py",
   "mimetype": "text/x-python",
   "name": "python",
   "nbconvert_exporter": "python",
   "pygments_lexer": "ipython2",
   "version": "2.7.10"
  }
 },
 "nbformat": 4,
 "nbformat_minor": 0
}
